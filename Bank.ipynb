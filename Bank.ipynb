{
 "cells": [
  {
   "cell_type": "markdown",
   "metadata": {},
   "source": [
    "# Bank Telemarketing "
   ]
  },
  {
   "cell_type": "code",
   "execution_count": null,
   "metadata": {
    "id": "gRTYCHnAtAMt"
   },
   "outputs": [],
   "source": [
    "#import data by kaggle\n",
    "!mkdir -p ~/.kaggle\n",
    "!cp kaggle.json ~/.kaggle/"
   ]
  },
  {
   "cell_type": "code",
   "execution_count": null,
   "metadata": {
    "colab": {
     "base_uri": "https://localhost:8080/"
    },
    "id": "48nXrdGAyEbW",
    "outputId": "7e651a4f-3b92-4f90-898b-7de385f3497c"
   },
   "outputs": [],
   "source": [
    "!kaggle datasets download -d gobert/bank-telemarketing-moro-et-al"
   ]
  },
  {
   "cell_type": "code",
   "execution_count": null,
   "metadata": {
    "id": "QE4sCKgGyeCr"
   },
   "outputs": [],
   "source": [
    "#file unzip\n",
    "import zipfile\n",
    "zip_ref = zipfile.ZipFile('/content/bank-telemarketing-moro-et-al.zip') \n",
    "zip_ref.extractall('/content')\n",
    "zip_ref.close()"
   ]
  },
  {
   "cell_type": "code",
   "execution_count": null,
   "metadata": {
    "id": "LesbiFqNylqh"
   },
   "outputs": [],
   "source": [
    "#import labriby\n",
    "import numpy as np\n",
    "import pandas as pd\n",
    "import seaborn as sns\n",
    "from matplotlib import rcParams\n",
    "import matplotlib.pyplot as plt\n",
    "from sklearn import preprocessing\n",
    "from sklearn import model_selection \n",
    "from sklearn.linear_model import LogisticRegression"
   ]
  },
  {
   "cell_type": "code",
   "execution_count": null,
   "metadata": {
    "id": "DPTowteDULps"
   },
   "outputs": [],
   "source": [
    "#upload dataset in pandas dataframe\n",
    "data = pd.read_csv('/content/bank-additional.csv')"
   ]
  },
  {
   "cell_type": "code",
   "execution_count": null,
   "metadata": {
    "colab": {
     "base_uri": "https://localhost:8080/",
     "height": 314
    },
    "id": "rafHpmLyUaGU",
    "outputId": "9c9df189-756c-476a-b8e1-24274f4dd9de"
   },
   "outputs": [],
   "source": [
    "#check first five rows of the dataset\n",
    "data.head()"
   ]
  },
  {
   "cell_type": "code",
   "execution_count": null,
   "metadata": {
    "colab": {
     "base_uri": "https://localhost:8080/",
     "height": 297
    },
    "id": "8SMP3YjTVouj",
    "outputId": "41bd062a-576e-4f29-afe9-e1e2a19707a8"
   },
   "outputs": [],
   "source": [
    "#check last five rows of the dataset\n",
    "data.tail()"
   ]
  },
  {
   "cell_type": "code",
   "execution_count": null,
   "metadata": {
    "colab": {
     "base_uri": "https://localhost:8080/"
    },
    "id": "RfkT90pTVurg",
    "outputId": "f13c551e-0a1f-4e32-b7d7-82f1fb5c311e"
   },
   "outputs": [],
   "source": [
    "#check shape of the dataset\n",
    "data.shape"
   ]
  },
  {
   "cell_type": "code",
   "execution_count": null,
   "metadata": {
    "colab": {
     "base_uri": "https://localhost:8080/"
    },
    "id": "5vJsS6SiVyII",
    "outputId": "040c1fa7-aab4-42e9-e3db-6060b647be90"
   },
   "outputs": [],
   "source": [
    "#check more infomation of the dataset\n",
    "data.info()"
   ]
  },
  {
   "cell_type": "code",
   "execution_count": null,
   "metadata": {
    "colab": {
     "base_uri": "https://localhost:8080/",
     "height": 361
    },
    "id": "mjhoPuJLWLG8",
    "outputId": "7984e99b-583a-4e5f-9549-759e0eb8fcba"
   },
   "outputs": [],
   "source": [
    "#check mathamatic relation of the dataset\n",
    "data.describe()"
   ]
  },
  {
   "cell_type": "code",
   "execution_count": null,
   "metadata": {
    "colab": {
     "base_uri": "https://localhost:8080/",
     "height": 423
    },
    "id": "3m7_588wWREe",
    "outputId": "fa714ed9-8ead-4c71-8197-dd38a40c0c3f"
   },
   "outputs": [],
   "source": [
    "#check corr realtion of the dataset\n",
    "data.corr()"
   ]
  },
  {
   "cell_type": "code",
   "execution_count": null,
   "metadata": {
    "colab": {
     "base_uri": "https://localhost:8080/"
    },
    "id": "qnVqfTKLWWxv",
    "outputId": "f2fe6412-b03a-42e1-bdd2-70bb7c40dfa6"
   },
   "outputs": [],
   "source": [
    "#check missing value of the dataset\n",
    "data.isnull().sum()"
   ]
  },
  {
   "cell_type": "code",
   "execution_count": null,
   "metadata": {
    "colab": {
     "base_uri": "https://localhost:8080/"
    },
    "id": "fXk2bXCmWjGP",
    "outputId": "a8615f23-18c2-419f-fbe5-cec6ba1efa1e"
   },
   "outputs": [],
   "source": [
    "#check duplicated value in dataset\n",
    "data.duplicated().sum()"
   ]
  },
  {
   "cell_type": "markdown",
   "metadata": {
    "id": "44xnRqvVW0bo"
   },
   "source": [
    "# EDA OF the Dataset"
   ]
  },
  {
   "cell_type": "code",
   "execution_count": null,
   "metadata": {
    "colab": {
     "base_uri": "https://localhost:8080/",
     "height": 651
    },
    "id": "7Fn-2SMpWs8d",
    "outputId": "70001b22-fd8d-41bc-d5e5-a19f9f43c4c7"
   },
   "outputs": [],
   "source": [
    "#count the value of job\n",
    "rcParams['figure.figsize'] = 15,10\n",
    "sns.countplot(data['job'])"
   ]
  },
  {
   "cell_type": "code",
   "execution_count": null,
   "metadata": {
    "colab": {
     "base_uri": "https://localhost:8080/",
     "height": 655
    },
    "id": "QIIzL9PgXAfj",
    "outputId": "f6585983-a4bb-453a-9dee-f1634cda4291"
   },
   "outputs": [],
   "source": [
    "#count the value of job\n",
    "rcParams['figure.figsize'] = 15,10\n",
    "sns.countplot(data['job'],hue=data['y'],palette=\"Set2\")"
   ]
  },
  {
   "cell_type": "code",
   "execution_count": null,
   "metadata": {
    "colab": {
     "base_uri": "https://localhost:8080/",
     "height": 651
    },
    "id": "dTBQy046Xaps",
    "outputId": "2feebfb4-303a-4a37-8a04-a1adadfb2c62"
   },
   "outputs": [],
   "source": [
    "#This infers that admin and technician are mostly taking the bank deposit as they are more people in number\n",
    "rcParams['figure.figsize'] = 15,10\n",
    "sns.countplot(data['education'])"
   ]
  },
  {
   "cell_type": "code",
   "execution_count": null,
   "metadata": {
    "colab": {
     "base_uri": "https://localhost:8080/",
     "height": 651
    },
    "id": "siQYqJT_YOL4",
    "outputId": "ba78811c-b568-4ef8-9231-a476c0ebfcac"
   },
   "outputs": [],
   "source": [
    "#count the value education\n",
    "rcParams['figure.figsize'] = 15,10\n",
    "sns.countplot(data['education'],hue=data['y'],palette=\"Set2\")"
   ]
  },
  {
   "cell_type": "markdown",
   "metadata": {
    "id": "ZKbtL3BVYuY3"
   },
   "source": [
    "persons who have university degree and high school are getting the bank deposit"
   ]
  },
  {
   "cell_type": "code",
   "execution_count": null,
   "metadata": {
    "colab": {
     "base_uri": "https://localhost:8080/",
     "height": 651
    },
    "id": "2FMwyh2QYUFW",
    "outputId": "4c1aaff0-09c7-4ab4-86e8-826fff1ab7fe"
   },
   "outputs": [],
   "source": [
    "#count the value maritak\n",
    "rcParams['figure.figsize'] = 15,10\n",
    "sns.countplot(data['marital'],hue=data['y'],palette=\"Set2\")"
   ]
  },
  {
   "cell_type": "markdown",
   "metadata": {
    "id": "oXotGMJeY7oK"
   },
   "source": [
    "Married and single people are accepting the bank deposit"
   ]
  },
  {
   "cell_type": "code",
   "execution_count": null,
   "metadata": {
    "colab": {
     "base_uri": "https://localhost:8080/",
     "height": 651
    },
    "id": "97_1b7OWY0UZ",
    "outputId": "0e4c5c34-01e3-428e-8a24-75a30d1be3db"
   },
   "outputs": [],
   "source": [
    "#count the values housing\n",
    "rcParams['figure.figsize'] = 15,10\n",
    "sns.countplot(data['housing'],hue=data['y'],palette=\"Set2\")"
   ]
  },
  {
   "cell_type": "code",
   "execution_count": null,
   "metadata": {
    "colab": {
     "base_uri": "https://localhost:8080/",
     "height": 627
    },
    "id": "DUivczniZFHg",
    "outputId": "6c9db33d-30b1-4102-fd25-8f9f116c4501"
   },
   "outputs": [],
   "source": [
    "#It shows those who have hosuing loan are more tend to accept the bank deposit\n",
    "data['loan'].value_counts().plot(kind=\"bar\")"
   ]
  },
  {
   "cell_type": "code",
   "execution_count": null,
   "metadata": {
    "colab": {
     "base_uri": "https://localhost:8080/",
     "height": 651
    },
    "id": "cyGxohoMZNDw",
    "outputId": "ce259284-f353-4441-a332-0ec8831aeb62"
   },
   "outputs": [],
   "source": [
    "#cout the loan value\n",
    "rcParams['figure.figsize'] = 15,10\n",
    "sns.countplot(data['loan'],hue=data['y'],palette=\"Set2\")"
   ]
  },
  {
   "cell_type": "markdown",
   "metadata": {
    "id": "Tp7IbA_gZbVy"
   },
   "source": [
    "Personal Loan"
   ]
  },
  {
   "cell_type": "code",
   "execution_count": null,
   "metadata": {
    "colab": {
     "base_uri": "https://localhost:8080/",
     "height": 651
    },
    "id": "PA2bNXCKZXYX",
    "outputId": "439c5d6c-f42d-4b8e-e231-acad771315c2"
   },
   "outputs": [],
   "source": [
    "#The person who has no personal loan will subscribe the bank deposit and who has already a personal loan does not subscipe to the bank deposit\n",
    "rcParams['figure.figsize'] = 15,10\n",
    "sns.countplot(data['contact'],hue=data['y'],palette=\"Set2\")"
   ]
  },
  {
   "cell_type": "code",
   "execution_count": null,
   "metadata": {
    "colab": {
     "base_uri": "https://localhost:8080/",
     "height": 651
    },
    "id": "TH8GbrFmZmym",
    "outputId": "33024785-6779-421f-cfa5-667a7f8eed1f"
   },
   "outputs": [],
   "source": [
    "#count the value nr.employed\n",
    "rcParams['figure.figsize'] = 15,10\n",
    "sns.countplot(data['nr.employed'],hue=data['y'],palette=\"Set2\")"
   ]
  },
  {
   "cell_type": "code",
   "execution_count": null,
   "metadata": {
    "colab": {
     "base_uri": "https://localhost:8080/",
     "height": 597
    },
    "id": "Badpzs2fZx1E",
    "outputId": "ab9d8e46-3dd7-4dce-b0df-115672cb3d50"
   },
   "outputs": [],
   "source": [
    "#count the value poutcome\n",
    "rcParams['figure.figsize'] = 15,10\n",
    "sns.countplot(x=data['poutcome'],hue=data['y'],palette=\"Set2\")"
   ]
  },
  {
   "cell_type": "code",
   "execution_count": null,
   "metadata": {
    "colab": {
     "base_uri": "https://localhost:8080/",
     "height": 592
    },
    "id": "Mmg4CBYhZ2sV",
    "outputId": "02ea7a5a-62a3-4e59-f6bd-a011c8489fb0"
   },
   "outputs": [],
   "source": [
    "#nonexistant people are more exposed for the subscripton of the bank deposit\n",
    "data['month'].value_counts().plot(kind=\"pie\")"
   ]
  },
  {
   "cell_type": "code",
   "execution_count": null,
   "metadata": {
    "colab": {
     "base_uri": "https://localhost:8080/",
     "height": 651
    },
    "id": "hEbKASU6aC-x",
    "outputId": "799b0410-3d45-42d0-a8c9-5ec85c2b88c2"
   },
   "outputs": [],
   "source": [
    "#count the values month\n",
    "rcParams['figure.figsize'] = 15,10\n",
    "sns.countplot(data['month'],hue=data['y'],palette=\"Set2\")"
   ]
  },
  {
   "cell_type": "code",
   "execution_count": null,
   "metadata": {
    "colab": {
     "base_uri": "https://localhost:8080/"
    },
    "id": "q_f6YPCnaJMY",
    "outputId": "faa2f5be-e991-412c-8df3-b4e5807806e3"
   },
   "outputs": [],
   "source": [
    "#check loan status\n",
    "data[\"loan\"].value_counts()"
   ]
  },
  {
   "cell_type": "code",
   "execution_count": null,
   "metadata": {
    "colab": {
     "base_uri": "https://localhost:8080/",
     "height": 677
    },
    "id": "XkZQApTmaVFf",
    "outputId": "38fba433-561a-4091-f7a5-568452afccbc"
   },
   "outputs": [],
   "source": [
    "#count the value eduction\n",
    "data[\"education\"].value_counts().plot(kind=\"bar\")"
   ]
  },
  {
   "cell_type": "code",
   "execution_count": null,
   "metadata": {
    "colab": {
     "base_uri": "https://localhost:8080/",
     "height": 592
    },
    "id": "qrQzKtroasPq",
    "outputId": "be06ea88-e11a-4a9b-838e-df6e3646eb6b"
   },
   "outputs": [],
   "source": [
    "data[\"housing\"].value_counts().plot(kind=\"pie\")"
   ]
  },
  {
   "cell_type": "code",
   "execution_count": null,
   "metadata": {
    "colab": {
     "base_uri": "https://localhost:8080/",
     "height": 631
    },
    "id": "Iffk7c1HawXW",
    "outputId": "63e9cc32-6416-40ef-ef11-2b453c596fda"
   },
   "outputs": [],
   "source": [
    "#contacct value count\n",
    "data[\"contact\"].value_counts().plot(kind=\"bar\")"
   ]
  },
  {
   "cell_type": "code",
   "execution_count": null,
   "metadata": {
    "colab": {
     "base_uri": "https://localhost:8080/",
     "height": 592
    },
    "id": "9ATT_hRya_Ru",
    "outputId": "94b7d5c1-7ecc-4be5-c956-e5e9364543b5"
   },
   "outputs": [],
   "source": [
    "data['marital'].value_counts().plot(kind=\"pie\")"
   ]
  },
  {
   "cell_type": "code",
   "execution_count": null,
   "metadata": {
    "colab": {
     "base_uri": "https://localhost:8080/"
    },
    "id": "xVW3hRydbC5d",
    "outputId": "ce167e68-06a6-4c06-b95a-9f7a494a75c2"
   },
   "outputs": [],
   "source": [
    "data['campaign'].value_counts()"
   ]
  },
  {
   "cell_type": "code",
   "execution_count": null,
   "metadata": {
    "colab": {
     "base_uri": "https://localhost:8080/",
     "height": 594
    },
    "id": "bVp8C8S4bG7m",
    "outputId": "3a070080-7eb6-43c5-8c45-fe32a0556156"
   },
   "outputs": [],
   "source": [
    "data['campaign'].value_counts().plot(kind=\"bar\")"
   ]
  },
  {
   "cell_type": "code",
   "execution_count": null,
   "metadata": {
    "colab": {
     "base_uri": "https://localhost:8080/",
     "height": 651
    },
    "id": "mk7TIjydbKn9",
    "outputId": "50dd48ea-7a38-45b5-f9da-7d6e06d8b0a0"
   },
   "outputs": [],
   "source": [
    "rcParams['figure.figsize'] = 15,10\n",
    "sns.countplot(data['campaign'],hue=data['y'],palette=\"Set2\")"
   ]
  },
  {
   "cell_type": "code",
   "execution_count": null,
   "metadata": {
    "colab": {
     "base_uri": "https://localhost:8080/",
     "height": 651
    },
    "id": "7ky8v39gbPA4",
    "outputId": "0177fc61-152e-4b8d-af7e-3e0d845c8a21"
   },
   "outputs": [],
   "source": [
    "rcParams['figure.figsize'] = 15,10\n",
    "sns.countplot(data['pdays'],hue=data['y'],palette=\"Set2\")"
   ]
  },
  {
   "cell_type": "code",
   "execution_count": null,
   "metadata": {
    "colab": {
     "base_uri": "https://localhost:8080/",
     "height": 620
    },
    "id": "tJniGlfoba5g",
    "outputId": "8e042663-e533-4eca-8c4a-84ffcdca585c"
   },
   "outputs": [],
   "source": [
    "data['cons.price.idx'].value_counts().plot(kind=\"bar\")"
   ]
  },
  {
   "cell_type": "code",
   "execution_count": null,
   "metadata": {
    "colab": {
     "base_uri": "https://localhost:8080/",
     "height": 653
    },
    "id": "D0klA1n6cbNG",
    "outputId": "1384bf39-2dee-484d-da33-db84d6a5f5e7"
   },
   "outputs": [],
   "source": [
    "#check dataset distubution\n",
    "sns.distplot(data['age'])"
   ]
  },
  {
   "cell_type": "code",
   "execution_count": null,
   "metadata": {
    "colab": {
     "base_uri": "https://localhost:8080/",
     "height": 601
    },
    "id": "7ns383zPcnEh",
    "outputId": "ea1ad785-9e15-47f0-e09d-e6a19390f431"
   },
   "outputs": [],
   "source": [
    "#check histplot for age\n",
    "sns.histplot(data['age'])"
   ]
  },
  {
   "cell_type": "code",
   "execution_count": null,
   "metadata": {
    "colab": {
     "base_uri": "https://localhost:8080/",
     "height": 645
    },
    "id": "RJyfUzxLcrHI",
    "outputId": "bca46296-7032-4446-ce39-becb527699bb"
   },
   "outputs": [],
   "source": [
    "#check dataset distubution\n",
    "sns.distplot(data['duration'])"
   ]
  },
  {
   "cell_type": "code",
   "execution_count": null,
   "metadata": {
    "colab": {
     "base_uri": "https://localhost:8080/",
     "height": 601
    },
    "id": "de2D_wBSczna",
    "outputId": "f3082a57-85ba-4a47-db49-6e7febc45e6d"
   },
   "outputs": [],
   "source": [
    "#check histplot for duration\n",
    "sns.histplot(data['duration'])"
   ]
  },
  {
   "cell_type": "code",
   "execution_count": null,
   "metadata": {
    "colab": {
     "base_uri": "https://localhost:8080/",
     "height": 656
    },
    "id": "KFAt-9bxdAA5",
    "outputId": "c8fc061f-3765-4859-fd73-f7e967511d81"
   },
   "outputs": [],
   "source": [
    "#check dataset distubution\n",
    "sns.distplot(data['campaign'])"
   ]
  },
  {
   "cell_type": "code",
   "execution_count": null,
   "metadata": {
    "colab": {
     "base_uri": "https://localhost:8080/",
     "height": 597
    },
    "id": "XsOZj0w0dFxt",
    "outputId": "0cad788f-5b61-47b0-fbef-adf6baceb387"
   },
   "outputs": [],
   "source": [
    "#check histplot for campaign\n",
    "sns.histplot(data['campaign'])"
   ]
  },
  {
   "cell_type": "code",
   "execution_count": null,
   "metadata": {
    "colab": {
     "base_uri": "https://localhost:8080/",
     "height": 653
    },
    "id": "4L_Gawf9dPEi",
    "outputId": "d9ecc830-5efc-49f3-e7c6-1297e515d031"
   },
   "outputs": [],
   "source": [
    "#check dataset distubution\n",
    "sns.distplot(data['pdays'])"
   ]
  },
  {
   "cell_type": "code",
   "execution_count": null,
   "metadata": {
    "colab": {
     "base_uri": "https://localhost:8080/",
     "height": 597
    },
    "id": "zg35FCbXdTCO",
    "outputId": "70ea9853-9a0d-487d-c048-99e3ce440e81"
   },
   "outputs": [],
   "source": [
    "#check histplot for pdays\n",
    "sns.histplot(data['pdays'])"
   ]
  },
  {
   "cell_type": "code",
   "execution_count": null,
   "metadata": {
    "colab": {
     "base_uri": "https://localhost:8080/",
     "height": 663
    },
    "id": "9BIm0fuNdbZL",
    "outputId": "81ee1abc-82b4-4ec5-dfaf-15117848657e"
   },
   "outputs": [],
   "source": [
    "#check dataset distubution\n",
    "sns.distplot(data['previous'])"
   ]
  },
  {
   "cell_type": "code",
   "execution_count": null,
   "metadata": {
    "colab": {
     "base_uri": "https://localhost:8080/",
     "height": 597
    },
    "id": "xTMx_XXHdgTu",
    "outputId": "c048ecdb-2920-46e3-c374-c047be650e77"
   },
   "outputs": [],
   "source": [
    "#check histplot for previous\n",
    "sns.histplot(data['previous'])"
   ]
  },
  {
   "cell_type": "code",
   "execution_count": null,
   "metadata": {
    "colab": {
     "base_uri": "https://localhost:8080/",
     "height": 653
    },
    "id": "diC4ep6udqJS",
    "outputId": "9cfe9713-536d-4c0b-f775-0a600bdd4816"
   },
   "outputs": [],
   "source": [
    "#check dataset distubution\n",
    "sns.distplot(data['cons.price.idx'])"
   ]
  },
  {
   "cell_type": "code",
   "execution_count": null,
   "metadata": {
    "colab": {
     "base_uri": "https://localhost:8080/",
     "height": 601
    },
    "id": "TJFH4e3_dtpN",
    "outputId": "c674e838-2c2e-4c45-ad59-d741331fabdd"
   },
   "outputs": [],
   "source": [
    "#check histplot for cons.price.idx\n",
    "sns.histplot(data['cons.price.idx'])"
   ]
  },
  {
   "cell_type": "code",
   "execution_count": null,
   "metadata": {
    "colab": {
     "base_uri": "https://localhost:8080/",
     "height": 653
    },
    "id": "KJX7wSLvd820",
    "outputId": "5fa760d8-9990-48f2-f20c-71116975d90a"
   },
   "outputs": [],
   "source": [
    "#check dataset distubution\n",
    "sns.distplot(data['cons.conf.idx'])"
   ]
  },
  {
   "cell_type": "code",
   "execution_count": null,
   "metadata": {
    "colab": {
     "base_uri": "https://localhost:8080/",
     "height": 601
    },
    "id": "uEi1v-r1eCsx",
    "outputId": "c9852656-461f-4c7b-b265-2ec28c27ece4"
   },
   "outputs": [],
   "source": [
    "#check histplot for cons.conf.idx\n",
    "sns.histplot(data['cons.conf.idx'])"
   ]
  },
  {
   "cell_type": "code",
   "execution_count": null,
   "metadata": {
    "colab": {
     "base_uri": "https://localhost:8080/",
     "height": 656
    },
    "id": "bYAAlTUZeMbT",
    "outputId": "5fe0faca-9781-4233-a52b-8fa135ff2abd"
   },
   "outputs": [],
   "source": [
    "#check dataset distubution\n",
    "sns.distplot(data['euribor3m'])"
   ]
  },
  {
   "cell_type": "code",
   "execution_count": null,
   "metadata": {
    "colab": {
     "base_uri": "https://localhost:8080/",
     "height": 598
    },
    "id": "fQmkbqDTelG4",
    "outputId": "0a499d7a-5870-46cc-c9da-a1e4621934b5"
   },
   "outputs": [],
   "source": [
    "#check histplot for euribor3m\n",
    "sns.histplot(data['euribor3m'])"
   ]
  },
  {
   "cell_type": "code",
   "execution_count": null,
   "metadata": {
    "colab": {
     "base_uri": "https://localhost:8080/",
     "height": 649
    },
    "id": "H8hqO2pnewtj",
    "outputId": "9ff58bd6-7e3f-49c0-dbb5-50fe7a999e82"
   },
   "outputs": [],
   "source": [
    "#check dataset distubution\n",
    "sns.distplot(data['nr.employed'])"
   ]
  },
  {
   "cell_type": "code",
   "execution_count": null,
   "metadata": {
    "colab": {
     "base_uri": "https://localhost:8080/",
     "height": 597
    },
    "id": "5oCu78z6e6NX",
    "outputId": "c9ce19f3-5c2b-46ba-cf27-5e4b770c854f"
   },
   "outputs": [],
   "source": [
    "#check histplot for nr.employed\n",
    "sns.histplot(data['nr.employed'])"
   ]
  },
  {
   "cell_type": "code",
   "execution_count": null,
   "metadata": {
    "colab": {
     "base_uri": "https://localhost:8080/",
     "height": 811
    },
    "id": "Sa5M4TCWi8ef",
    "outputId": "654884b3-b58f-410a-debf-0df34e0cff36"
   },
   "outputs": [],
   "source": [
    "data.hist()"
   ]
  },
  {
   "cell_type": "code",
   "execution_count": null,
   "metadata": {
    "colab": {
     "base_uri": "https://localhost:8080/",
     "height": 725
    },
    "id": "DoZhrmvTjQCs",
    "outputId": "0eb2dc54-9e00-4642-fe67-f5fefef8b70f"
   },
   "outputs": [],
   "source": [
    "data.plot(kind='density', subplots=True, layout=(4,6), sharex=False, sharey=False)"
   ]
  },
  {
   "cell_type": "code",
   "execution_count": null,
   "metadata": {
    "colab": {
     "base_uri": "https://localhost:8080/",
     "height": 490
    },
    "id": "r_B1mtCrjZep",
    "outputId": "97109fba-83f1-4894-a3af-1f03156b57e3"
   },
   "outputs": [],
   "source": [
    "data.plot(kind='box', subplots=True, layout=(4,6), sharex=False, sharey=False)"
   ]
  },
  {
   "cell_type": "code",
   "execution_count": null,
   "metadata": {
    "colab": {
     "base_uri": "https://localhost:8080/",
     "height": 938
    },
    "id": "xjSB0bpXjqKp",
    "outputId": "a9999745-61db-417f-a2e8-572a73b640c5"
   },
   "outputs": [],
   "source": [
    "fig = plt.figure()\n",
    "ax = fig.add_subplot(111)\n",
    "cax = ax.matshow(data.corr(), vmin=-1, vmax=1)\n",
    "fig.colorbar(cax)\n",
    "ticks = np.arange(0,20,1)\n",
    "ax.set_xticks(ticks)\n",
    "ax.set_yticks(ticks)\n",
    "ax.set_xticklabels(data.columns)\n",
    "ax.set_yticklabels(data.columns)"
   ]
  },
  {
   "cell_type": "code",
   "execution_count": null,
   "metadata": {
    "id": "lVqYKa2KmK57"
   },
   "outputs": [],
   "source": [
    "#copy data\n",
    "new_df = data.copy(deep=True)"
   ]
  },
  {
   "cell_type": "code",
   "execution_count": null,
   "metadata": {
    "id": "RKU3LFC3owWn"
   },
   "outputs": [],
   "source": [
    "le = preprocessing.LabelEncoder()\n",
    "\n",
    "# job\n",
    "le.fit(new_df['job'])\n",
    "new_df['job'] = le.transform(new_df['job'])\n",
    "\n",
    "# maritial feature\n",
    "le.fit(new_df['marital'])\n",
    "new_df['marital'] = le.transform(new_df['marital'])\n",
    "\n",
    "# education_feature\n",
    "le.fit(new_df['education'])\n",
    "new_df['education'] = le.transform(new_df['education'])\n",
    "\n",
    "# housing_feature\n",
    "le.fit(new_df['housing'])\n",
    "new_df['housing'] = le.transform(new_df['housing'])\n",
    "\n",
    "# loan_feature\n",
    "le.fit(new_df['loan'])\n",
    "new_df['loan'] = le.transform(new_df['loan'])\n",
    "\n",
    "# contact_feature\n",
    "le.fit(new_df['contact'])\n",
    "new_df['contact'] = le.transform(new_df['contact'])\n",
    "\n",
    "# Month_feature\n",
    "le.fit(new_df['month'])\n",
    "new_df['month'] = le.transform(new_df['month'])\n",
    "\n",
    "# day of week_feature\n",
    "le.fit(new_df['day_of_week'])\n",
    "new_df['day_of_week'] = le.transform(new_df['day_of_week'])\n",
    "\n",
    "# poutcome_feature\n",
    "le.fit(new_df['poutcome'])\n",
    "new_df['poutcome'] = le.transform(new_df['poutcome'])\n",
    "\n",
    "# default_feature\n",
    "le.fit(new_df['default'])\n",
    "new_df['default'] = le.transform(new_df['default'])\n",
    "\n",
    "\n",
    "\n",
    "# Target_feature\n",
    "le.fit(new_df['y'])\n",
    "new_df['y'] = le.transform(new_df['y'])"
   ]
  },
  {
   "cell_type": "code",
   "execution_count": null,
   "metadata": {
    "colab": {
     "base_uri": "https://localhost:8080/",
     "height": 297
    },
    "id": "0uSQhM7OmsfS",
    "outputId": "fd63c97b-1693-4915-8d88-2315af3a64c6"
   },
   "outputs": [],
   "source": [
    "new_df.head()"
   ]
  },
  {
   "cell_type": "code",
   "execution_count": null,
   "metadata": {
    "colab": {
     "base_uri": "https://localhost:8080/"
    },
    "id": "679GQzsUtemu",
    "outputId": "2b14ab1b-3eb9-4902-ae9a-0440108d5fed"
   },
   "outputs": [],
   "source": [
    "#check data type after \n",
    "new_df.info()"
   ]
  },
  {
   "cell_type": "code",
   "execution_count": null,
   "metadata": {
    "colab": {
     "base_uri": "https://localhost:8080/",
     "height": 235
    },
    "id": "Rq2lwsQMqWoh",
    "outputId": "65a1d834-5595-4941-d4a3-c04eae5e6ade"
   },
   "outputs": [],
   "source": [
    "#groupby dataset mean\n",
    "new_df.groupby(data['y']).mean()"
   ]
  },
  {
   "cell_type": "code",
   "execution_count": null,
   "metadata": {
    "id": "lIjKr78anCH6"
   },
   "outputs": [],
   "source": [
    "#check correlation of the dataset\n",
    "correleation_matrix = new_df.corr()"
   ]
  },
  {
   "cell_type": "code",
   "execution_count": null,
   "metadata": {
    "colab": {
     "base_uri": "https://localhost:8080/",
     "height": 855
    },
    "id": "LkxSFzYRnDK7",
    "outputId": "9914a622-a7b6-463a-e6a1-f44fb53522ec"
   },
   "outputs": [],
   "source": [
    "rcParams['figure.figsize'] = 15,15\n",
    "sns.heatmap(correleation_matrix, cbar=True, square= True,fmt='.1f', annot=True, annot_kws={'size':15}, cmap='Greens')"
   ]
  },
  {
   "cell_type": "code",
   "execution_count": null,
   "metadata": {
    "id": "7_couI-TnGFx"
   },
   "outputs": [],
   "source": [
    "#spliting the dataset in X and Y \n",
    "X = new_df.drop(['y'],axis=1)\n",
    "Y = new_df['y']"
   ]
  },
  {
   "cell_type": "code",
   "execution_count": null,
   "metadata": {
    "colab": {
     "base_uri": "https://localhost:8080/"
    },
    "id": "rymo0l1inYlh",
    "outputId": "611d0407-b42f-4f3d-f44e-8a09bfc2853c"
   },
   "outputs": [],
   "source": [
    "print(X)\n",
    "print(Y)"
   ]
  },
  {
   "cell_type": "code",
   "execution_count": null,
   "metadata": {
    "id": "itichNr7neFI"
   },
   "outputs": [],
   "source": [
    "#spliting the dataset in train and test\n",
    "X_train,X_test,Y_train,Y_test = model_selection.train_test_split(X,Y,test_size=0.10, random_state=42)"
   ]
  },
  {
   "cell_type": "code",
   "execution_count": null,
   "metadata": {
    "colab": {
     "base_uri": "https://localhost:8080/"
    },
    "id": "32iYm7qynpxs",
    "outputId": "8e91b4fe-8a37-4d5a-ed86-f8434811100c"
   },
   "outputs": [],
   "source": [
    "#print shape of X_train and Y_train\n",
    "print(X_train.shape, X_test.shape, Y_train.shape, Y_test.shape)"
   ]
  },
  {
   "cell_type": "markdown",
   "metadata": {
    "id": "PshWiN_koOCI"
   },
   "source": [
    "# Loading the Model"
   ]
  },
  {
   "cell_type": "code",
   "execution_count": null,
   "metadata": {
    "id": "SUDyYb_nn3yj"
   },
   "outputs": [],
   "source": [
    "model = LogisticRegression()"
   ]
  },
  {
   "cell_type": "code",
   "execution_count": null,
   "metadata": {
    "colab": {
     "base_uri": "https://localhost:8080/"
    },
    "id": "B5CrGCqLofgy",
    "outputId": "226fcb5e-8edb-484c-ba61-d798b7b93165"
   },
   "outputs": [],
   "source": [
    "model.fit(X_train,Y_train)"
   ]
  },
  {
   "cell_type": "code",
   "execution_count": null,
   "metadata": {
    "id": "HnzLBPwarmY3"
   },
   "outputs": [],
   "source": [
    "y_pred = model.predict(X_test)"
   ]
  },
  {
   "cell_type": "code",
   "execution_count": null,
   "metadata": {
    "id": "IYrRfKDxu7i3"
   },
   "outputs": [],
   "source": [
    "from sklearn import metrics\n",
    "f1 = metrics.f1_score(y_true=Y_test,y_pred=y_pred)\n",
    "acc = metrics.accuracy_score(y_true=Y_test,y_pred=y_pred)\n",
    "pres = metrics.precision_score(y_true=Y_test,y_pred=y_pred)\n",
    "recall = metrics.recall_score(y_true=Y_test,y_pred=y_pred)"
   ]
  },
  {
   "cell_type": "code",
   "execution_count": null,
   "metadata": {
    "colab": {
     "base_uri": "https://localhost:8080/"
    },
    "id": "T7csdh38vCBx",
    "outputId": "7242dad9-c6cc-4bdf-bacb-cd296bf82713"
   },
   "outputs": [],
   "source": [
    "print(\"The accuracy of the model Logistic Regression Model\",acc)\n",
    "print(\"The F1 Score of the model Logistic Regression Model\",f1)\n",
    "print(\"The Precision of the model Logistic Regression Model\",pres)\n",
    "print(\"The recall of the model Logistic Regression Model\",recall)"
   ]
  },
  {
   "cell_type": "markdown",
   "metadata": {
    "id": "qKJdZ_N0vPnN"
   },
   "source": [
    "# using ensemble learning"
   ]
  },
  {
   "cell_type": "code",
   "execution_count": null,
   "metadata": {
    "id": "WgBSO9b7vK4T"
   },
   "outputs": [],
   "source": [
    "from sklearn import ensemble"
   ]
  },
  {
   "cell_type": "code",
   "execution_count": null,
   "metadata": {
    "id": "-5xoJ8r8vTL6"
   },
   "outputs": [],
   "source": [
    "#using RandomForestClassifier()\n",
    "RFC = ensemble.RandomForestClassifier()"
   ]
  },
  {
   "cell_type": "code",
   "execution_count": null,
   "metadata": {
    "colab": {
     "base_uri": "https://localhost:8080/"
    },
    "id": "vWl4BPHFvbe8",
    "outputId": "e68a9573-e131-4ad9-a727-64d82d9c3d92"
   },
   "outputs": [],
   "source": [
    "RFC.fit(X_train,Y_train)"
   ]
  },
  {
   "cell_type": "code",
   "execution_count": null,
   "metadata": {
    "id": "MrbAFuXMvjp7"
   },
   "outputs": [],
   "source": [
    "y_pred_rfc = RFC.predict(X_test)"
   ]
  },
  {
   "cell_type": "code",
   "execution_count": null,
   "metadata": {
    "colab": {
     "base_uri": "https://localhost:8080/",
     "height": 900
    },
    "id": "aZYi83X6vpH0",
    "outputId": "950d5cb3-077e-4013-a85e-7cffffe8c710"
   },
   "outputs": [],
   "source": [
    "f1_rfc = metrics.f1_score(y_true=Y_test,y_pred=y_pred_rfc)\n",
    "acc_rfc = metrics.accuracy_score(y_true=Y_test,y_pred=y_pred_rfc)\n",
    "pres_rfc = metrics.precision_score(y_true=Y_test,y_pred=y_pred_rfc)\n",
    "recall_rfc = metrics.recall_score(y_true=Y_test,y_pred=y_pred_rfc)\n",
    "cfn_matrix = metrics.plot_confusion_matrix(RFC,X_test,Y_test)"
   ]
  },
  {
   "cell_type": "code",
   "execution_count": null,
   "metadata": {
    "colab": {
     "base_uri": "https://localhost:8080/"
    },
    "id": "5Gf7Qlozvxuq",
    "outputId": "348e6c6d-1726-4fd5-eb4b-5c9a5fbed8db"
   },
   "outputs": [],
   "source": [
    "#check cfn_matrix\n",
    "cfn_matrix"
   ]
  },
  {
   "cell_type": "code",
   "execution_count": null,
   "metadata": {
    "colab": {
     "base_uri": "https://localhost:8080/"
    },
    "id": "vj1ioXMYv3J5",
    "outputId": "4550556a-7008-4617-b3dc-7563736c114a"
   },
   "outputs": [],
   "source": [
    "print(\"The accuracy of the model RandomForestClassifier Model\",acc_rfc)\n",
    "print(\"The F1 Score of the model RandomForestClassifier Model\",f1_rfc)\n",
    "print(\"The Precision of the model RandomForestClassifier Model\",pres_rfc)\n",
    "print(\"The recall of the model RandomForestClassifier\",recall_rfc)"
   ]
  },
  {
   "cell_type": "markdown",
   "metadata": {},
   "source": [
    "# Using ANN"
   ]
  },
  {
   "cell_type": "code",
   "execution_count": null,
   "metadata": {
    "id": "wK7X9fc7wD-l"
   },
   "outputs": [],
   "source": [
    "import tensorflow\n",
    "from tensorflow import keras\n",
    "from keras import Sequentail\n",
    "from keras.layers import Dense"
   ]
  },
  {
   "cell_type": "code",
   "execution_count": null,
   "metadata": {},
   "outputs": [],
   "source": [
    "ann_model = Sequentail()"
   ]
  },
  {
   "cell_type": "code",
   "execution_count": null,
   "metadata": {},
   "outputs": [],
   "source": [
    "ann_model.add()"
   ]
  },
  {
   "cell_type": "code",
   "execution_count": null,
   "metadata": {},
   "outputs": [],
   "source": []
  },
  {
   "cell_type": "code",
   "execution_count": null,
   "metadata": {},
   "outputs": [],
   "source": []
  },
  {
   "cell_type": "code",
   "execution_count": null,
   "metadata": {},
   "outputs": [],
   "source": []
  },
  {
   "cell_type": "code",
   "execution_count": null,
   "metadata": {},
   "outputs": [],
   "source": []
  }
 ],
 "metadata": {
  "colab": {
   "provenance": []
  },
  "kernelspec": {
   "display_name": "Python 3 (ipykernel)",
   "language": "python",
   "name": "python3"
  },
  "language_info": {
   "codemirror_mode": {
    "name": "ipython",
    "version": 3
   },
   "file_extension": ".py",
   "mimetype": "text/x-python",
   "name": "python",
   "nbconvert_exporter": "python",
   "pygments_lexer": "ipython3",
   "version": "3.9.7"
  }
 },
 "nbformat": 4,
 "nbformat_minor": 1
}
